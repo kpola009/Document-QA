{
 "cells": [
  {
   "cell_type": "code",
   "execution_count": 46,
   "metadata": {},
   "outputs": [],
   "source": [
    "from PyPDF2 import PdfReader\n",
    "\n",
    "from langchain.text_splitter import Language, RecursiveCharacterTextSplitter\n",
    "from langchain.embeddings import HuggingFaceInstructEmbeddings\n",
    "from langchain.vectorstores import Chroma\n",
    "from langchain.docstore.document import Document\n",
    "from chromadb.config import Settings\n",
    "from langchain.document_loaders import PDFMinerLoader\n",
    "\n",
    "from constant import (PERSIST_DIRECTORY,\n",
    "                      CHROMA_SETTINGS)"
   ]
  },
  {
   "cell_type": "code",
   "execution_count": 74,
   "metadata": {},
   "outputs": [],
   "source": [
    "def pdf_loader(pdf_file):\n",
    "\n",
    "    loader = PDFMinerLoader(\"temp.pdf\")\n",
    "    return loader.load()\n",
    "\n",
    "def split_text(text):\n",
    "    text_splitter = RecursiveCharacterTextSplitter(chunk_size=1000, chunk_overlap=200)\n",
    "    docs = text_splitter.split_documents(text)\n",
    "    return docs\n",
    "    \n",
    "def create_knowledge(chunks):\n",
    "    embedding = HuggingFaceInstructEmbeddings(\n",
    "            model_name = \"hkunlp/instructor-large\"\n",
    "\n",
    "            #TODO: Decide on using device type\n",
    "            #, model_kwargs={\"device\": device_type}\n",
    "        )\n",
    "    db = Chroma.from_documents(chunks,\n",
    "                               embedding,\n",
    "                               persist_directory=PERSIST_DIRECTORY,\n",
    "                               client_settings=CHROMA_SETTINGS,)\n",
    "    db.persist()\n",
    "    db = None"
   ]
  },
  {
   "cell_type": "code",
   "execution_count": 75,
   "metadata": {},
   "outputs": [
    {
     "name": "stdout",
     "output_type": "stream",
     "text": [
      "[Document(page_content='Cyberattack vulnerabilities on Microgrids. \\n\\nSmart grids are upgraded versions of traditional electric grids, equipped with advanced technologies like \\nsensors, communication networks, operations automation. With this new upgrade, comes cyberattack \\nvulnerabilities, A successful cyberattack on smart grid can have significant consequences on the power \\nsystem and the community it serves such as power outages, financial losses, safety risks and national \\nsecurity risks, etc. \\n\\nMost of the grid’s vulnerabilities are caused due to Communication Networks where Modern grids are \\nequipped with multiple communication technologies, which create a challenge to implement a global \\ncybersecurity policy. Plus, in recent years there has been an increase in communication to external \\nnetworks for data exchanges to maintain performance. However, it creates a vulnerability on exchange \\ncommunication line. Besides, more vulnerabilities are introduced by internet exposure, where internet \\nprovides real-time data to grid like weather forecast and fuel prices for optimal energy management and \\nprofits. According to a report by Idaho National Laboratory, A survey composed of electric utility \\nrespondents, found 41 percent of total security incidents were related to insecure IT network \\n(https://www.energy.gov/policy/articles/cyber-threat-and-vulnerability-analysis-us-electric-sector). \\nAnother major cause for grid vulnerability is Automation Devices. The main advantage of automation is \\nit increases the efficiency of operation and eliminated human-error factor. However, these devices have \\ncommunication capabilities over network, which makes this device prime targets for attackers to gain \\naccess to control systems. In an attack in 2016 on Ukrainian power grid, attackers send malware through \\nemails to power grid workers, through network they were able to access critical control systems lead to \\npower outrage for six hours. (https://www.cisa.gov/news-events/ics-alerts/ir-alert-h-16-056-01).  \\n\\nApplication of Machine Learning in Cyberattack detection on Microgrids. \\n\\n \\n \\n\\x0c', metadata={'source': 'temp.pdf'})]\n",
      "[Document(page_content='Cyberattack vulnerabilities on Microgrids. \\n\\nSmart grids are upgraded versions of traditional electric grids, equipped with advanced technologies like \\nsensors, communication networks, operations automation. With this new upgrade, comes cyberattack \\nvulnerabilities, A successful cyberattack on smart grid can have significant consequences on the power \\nsystem and the community it serves such as power outages, financial losses, safety risks and national \\nsecurity risks, etc.', metadata={'source': 'temp.pdf'}), Document(page_content='Most of the grid’s vulnerabilities are caused due to Communication Networks where Modern grids are \\nequipped with multiple communication technologies, which create a challenge to implement a global \\ncybersecurity policy. Plus, in recent years there has been an increase in communication to external \\nnetworks for data exchanges to maintain performance. However, it creates a vulnerability on exchange \\ncommunication line. Besides, more vulnerabilities are introduced by internet exposure, where internet \\nprovides real-time data to grid like weather forecast and fuel prices for optimal energy management and \\nprofits. According to a report by Idaho National Laboratory, A survey composed of electric utility \\nrespondents, found 41 percent of total security incidents were related to insecure IT network \\n(https://www.energy.gov/policy/articles/cyber-threat-and-vulnerability-analysis-us-electric-sector).', metadata={'source': 'temp.pdf'}), Document(page_content='respondents, found 41 percent of total security incidents were related to insecure IT network \\n(https://www.energy.gov/policy/articles/cyber-threat-and-vulnerability-analysis-us-electric-sector). \\nAnother major cause for grid vulnerability is Automation Devices. The main advantage of automation is \\nit increases the efficiency of operation and eliminated human-error factor. However, these devices have \\ncommunication capabilities over network, which makes this device prime targets for attackers to gain \\naccess to control systems. In an attack in 2016 on Ukrainian power grid, attackers send malware through \\nemails to power grid workers, through network they were able to access critical control systems lead to \\npower outrage for six hours. (https://www.cisa.gov/news-events/ics-alerts/ir-alert-h-16-056-01).', metadata={'source': 'temp.pdf'}), Document(page_content='Application of Machine Learning in Cyberattack detection on Microgrids.', metadata={'source': 'temp.pdf'})]\n",
      "load INSTRUCTOR_Transformer\n"
     ]
    },
    {
     "name": "stderr",
     "output_type": "stream",
     "text": [
      "Using embedded DuckDB with persistence: data will be stored in: C:\\Users\\ketul\\PycharmProjects\\DocumentGPT App\\Document QA/DB\n"
     ]
    },
    {
     "name": "stdout",
     "output_type": "stream",
     "text": [
      "max_seq_length  512\n"
     ]
    }
   ],
   "source": [
    "text = pdf_loader(\"temp.pdf\")\n",
    "print(text)\n",
    "text_chunks = split_text(text)\n",
    "print(text_chunks)\n",
    "create_knowledge(text_chunks)"
   ]
  },
  {
   "cell_type": "code",
   "execution_count": 70,
   "metadata": {},
   "outputs": [
    {
     "name": "stdout",
     "output_type": "stream",
     "text": [
      "document\n",
      "[Document(page_content='Cyberattack vulnerabilities on Microgrids.\\nSmart grids are upgraded versions of traditional electric grids, equipped with advanced technologies like \\nsensors, communication networks, operations automation. With this new upgrade, comes cyberattack \\nvulnerabilities, A successful cyberattack on smart grid can have significant consequences on the power \\nsystem and the community it serves such as power outages, financial losses, safety risks and national \\nsecurity risks, etc.\\nMost of the grid’s vulnerabilities are caused due to Communication Networks where Modern grids are \\nequipped with multiple communication technologies, which create a challenge to implement a global \\ncybersecurity policy. Plus, in recent years there has been an increase in communication to external \\nnetworks for data exchanges to maintain performance. However, it creates a vulnerability on exchange \\ncommunication line. Besides, more vulnerabilities are introduced by internet exposure, where internet \\nprovides real-time data to grid like weather forecast and fuel prices for optimal energy management and \\nprofits. According to a report by Idaho National Laboratory, A survey composed of electric utility \\nrespondents, found 41 percent of total security incidents were related to insecure IT network \\n(https://www.energy.gov/policy/articles/cyber-threat-and-vulnerability-analysis-us-electric-sector).\\nAnother major cause for grid vulnerability is Automation Devices. The main advantage of automation is \\nit increases the efficiency of operation and eliminated human-error factor. However, these devices have \\ncommunication capabilities over network, which makes this device prime targets for attackers to gain \\naccess to control systems. In an attack in 2016 on Ukrainian power grid, attackers send malware through \\nemails to power grid workers, through network they were able to access critical control systems lead to \\npower outrage for six hours. (https://www.cisa.gov/news-events/ics-alerts/ir-alert-h-16-056-01). \\nApplication of Machine Learning in Cyberattack detection on Microgrids', metadata={'source': 'temp.txt'})]\n",
      "[Document(page_content='Cyberattack vulnerabilities on Microgrids. \\n\\nSmart grids are upgraded versions of traditional electric grids, equipped with advanced technologies like \\nsensors, communication networks, operations automation. With this new upgrade, comes cyberattack \\nvulnerabilities, A successful cyberattack on smart grid can have significant consequences on the power \\nsystem and the community it serves such as power outages, financial losses, safety risks and national \\nsecurity risks, etc.', metadata={'source': 'temp.pdf'}), Document(page_content='Most of the grid’s vulnerabilities are caused due to Communication Networks where Modern grids are \\nequipped with multiple communication technologies, which create a challenge to implement a global \\ncybersecurity policy. Plus, in recent years there has been an increase in communication to external \\nnetworks for data exchanges to maintain performance. However, it creates a vulnerability on exchange \\ncommunication line. Besides, more vulnerabilities are introduced by internet exposure, where internet \\nprovides real-time data to grid like weather forecast and fuel prices for optimal energy management and \\nprofits. According to a report by Idaho National Laboratory, A survey composed of electric utility \\nrespondents, found 41 percent of total security incidents were related to insecure IT network \\n(https://www.energy.gov/policy/articles/cyber-threat-and-vulnerability-analysis-us-electric-sector).', metadata={'source': 'temp.pdf'}), Document(page_content='Another major cause for grid vulnerability is Automation Devices. The main advantage of automation is \\nit increases the efficiency of operation and eliminated human-error factor. However, these devices have \\ncommunication capabilities over network, which makes this device prime targets for attackers to gain \\naccess to control systems. In an attack in 2016 on Ukrainian power grid, attackers send malware through \\nemails to power grid workers, through network they were able to access critical control systems lead to \\npower outrage for six hours. (https://www.cisa.gov/news-events/ics-alerts/ir-alert-h-16-056-01).', metadata={'source': 'temp.pdf'}), Document(page_content='Application of Machine Learning in Cyberattack detection on Microgrids.', metadata={'source': 'temp.pdf'})]\n",
      "<class 'list'>\n"
     ]
    }
   ],
   "source": [
    "# import\n",
    "from langchain.embeddings.sentence_transformer import SentenceTransformerEmbeddings\n",
    "from langchain.text_splitter import CharacterTextSplitter\n",
    "from langchain.vectorstores import Chroma\n",
    "from langchain.document_loaders import TextLoader\n",
    "\n",
    "\n",
    "# load the document and split it into chunks\n",
    "loader = TextLoader(\"temp.txt\")\n",
    "documents = loader.load()\n",
    "print(\"document\")\n",
    "print(documents)\n",
    "\n",
    "# split it into chunks\n",
    "text_splitter = RecursiveCharacterTextSplitter(chunk_size=1000, chunk_overlap=0)\n",
    "docs = text_splitter.split_documents(text)\n",
    "print(docs)\n",
    "print(type(docs))\n",
    "# # create the open-source embedding function\n",
    "# embedding = HuggingFaceInstructEmbeddings(\n",
    "#             model_name = \"hkunlp/instructor-large\"\n",
    "\n",
    "#             #TODO: Decide on using device type\n",
    "#             #, model_kwargs={\"device\": device_type}\n",
    "#         )\n",
    "\n",
    "# # load it into Chroma\n",
    "# db = Chroma.from_documents(docs, embedding)\n",
    "\n",
    "# # query it\n",
    "# query = \"What did the president say about Ketanji Brown Jackson\"\n",
    "# docs = db.similarity_search(query)\n",
    "\n",
    "# # print results\n",
    "# print(docs[0].page_content)"
   ]
  },
  {
   "cell_type": "code",
   "execution_count": 32,
   "metadata": {},
   "outputs": [],
   "source": [
    "import os\n",
    "from concurrent.futures import ProcessPoolExecutor, ThreadPoolExecutor, as_completed\n",
    "import logging\n",
    "from langchain.document_loaders import CSVLoader, PDFMinerLoader, TextLoader, UnstructuredExcelLoader\n"
   ]
  },
  {
   "cell_type": "code",
   "execution_count": 40,
   "metadata": {},
   "outputs": [],
   "source": [
    "DOCUMENT_MAP = {\n",
    "    \".txt\": TextLoader,\n",
    "    \".py\": TextLoader,\n",
    "    \".pdf\": PDFMinerLoader,\n",
    "    \".csv\": CSVLoader,\n",
    "    \".xls\": UnstructuredExcelLoader,\n",
    "    \".xlxs\": UnstructuredExcelLoader,\n",
    "}"
   ]
  },
  {
   "cell_type": "code",
   "execution_count": 41,
   "metadata": {},
   "outputs": [],
   "source": [
    "def load_single_document(file_path: str) -> Document:\n",
    "    # Loads a single document from a file path\n",
    "    file_extension = os.path.splitext(file_path)[1]\n",
    "    loader_class = DOCUMENT_MAP.get(file_extension)\n",
    "    if loader_class:\n",
    "        loader = loader_class(file_path)\n",
    "    else:\n",
    "        raise ValueError(\"Document type is undefined\")\n",
    "    return loader.load()[0]"
   ]
  },
  {
   "cell_type": "code",
   "execution_count": 43,
   "metadata": {},
   "outputs": [],
   "source": [
    "documents = load_single_document('C:/Users/ketul/PycharmProjects/DocumentGPT App/Document QA/temp.pdf')"
   ]
  },
  {
   "cell_type": "code",
   "execution_count": 44,
   "metadata": {},
   "outputs": [
    {
     "data": {
      "text/plain": [
       "Document(page_content='Cyberattack vulnerabilities on Microgrids. \\n\\nSmart grids are upgraded versions of traditional electric grids, equipped with advanced technologies like \\nsensors, communication networks, operations automation. With this new upgrade, comes cyberattack \\nvulnerabilities, A successful cyberattack on smart grid can have significant consequences on the power \\nsystem and the community it serves such as power outages, financial losses, safety risks and national \\nsecurity risks, etc. \\n\\nMost of the grid’s vulnerabilities are caused due to Communication Networks where Modern grids are \\nequipped with multiple communication technologies, which create a challenge to implement a global \\ncybersecurity policy. Plus, in recent years there has been an increase in communication to external \\nnetworks for data exchanges to maintain performance. However, it creates a vulnerability on exchange \\ncommunication line. Besides, more vulnerabilities are introduced by internet exposure, where internet \\nprovides real-time data to grid like weather forecast and fuel prices for optimal energy management and \\nprofits. According to a report by Idaho National Laboratory, A survey composed of electric utility \\nrespondents, found 41 percent of total security incidents were related to insecure IT network \\n(https://www.energy.gov/policy/articles/cyber-threat-and-vulnerability-analysis-us-electric-sector). \\nAnother major cause for grid vulnerability is Automation Devices. The main advantage of automation is \\nit increases the efficiency of operation and eliminated human-error factor. However, these devices have \\ncommunication capabilities over network, which makes this device prime targets for attackers to gain \\naccess to control systems. In an attack in 2016 on Ukrainian power grid, attackers send malware through \\nemails to power grid workers, through network they were able to access critical control systems lead to \\npower outrage for six hours. (https://www.cisa.gov/news-events/ics-alerts/ir-alert-h-16-056-01).  \\n\\nApplication of Machine Learning in Cyberattack detection on Microgrids. \\n\\n \\n \\n\\x0c', metadata={'source': 'C:/Users/ketul/PycharmProjects/DocumentGPT App/Document QA/temp.pdf'})"
      ]
     },
     "execution_count": 44,
     "metadata": {},
     "output_type": "execute_result"
    }
   ],
   "source": [
    "documents"
   ]
  },
  {
   "cell_type": "code",
   "execution_count": 1,
   "metadata": {},
   "outputs": [
    {
     "name": "stderr",
     "output_type": "stream",
     "text": [
      "c:\\Users\\ketul\\anaconda3\\envs\\PyTorch_GPU\\lib\\site-packages\\tqdm\\auto.py:22: TqdmWarning: IProgress not found. Please update jupyter and ipywidgets. See https://ipywidgets.readthedocs.io/en/stable/user_install.html\n",
      "  from .autonotebook import tqdm as notebook_tqdm\n"
     ]
    }
   ],
   "source": [
    "import torch"
   ]
  },
  {
   "cell_type": "code",
   "execution_count": 2,
   "metadata": {},
   "outputs": [
    {
     "name": "stdout",
     "output_type": "stream",
     "text": [
      "1.13.1\n"
     ]
    }
   ],
   "source": [
    "print(torch.__version__)"
   ]
  },
  {
   "cell_type": "code",
   "execution_count": 3,
   "metadata": {},
   "outputs": [
    {
     "name": "stdout",
     "output_type": "stream",
     "text": [
      "Using device: cuda\n"
     ]
    }
   ],
   "source": [
    "device = torch.device('cuda' if torch.cuda.is_available() else 'cpu')\n",
    "print('Using device:', device)"
   ]
  },
  {
   "cell_type": "code",
   "execution_count": null,
   "metadata": {},
   "outputs": [],
   "source": []
  }
 ],
 "metadata": {
  "kernelspec": {
   "display_name": "documentqa",
   "language": "python",
   "name": "python3"
  },
  "language_info": {
   "codemirror_mode": {
    "name": "ipython",
    "version": 3
   },
   "file_extension": ".py",
   "mimetype": "text/x-python",
   "name": "python",
   "nbconvert_exporter": "python",
   "pygments_lexer": "ipython3",
   "version": "3.8.16"
  },
  "orig_nbformat": 4
 },
 "nbformat": 4,
 "nbformat_minor": 2
}
